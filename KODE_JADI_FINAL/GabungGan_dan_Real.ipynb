{
 "cells": [
  {
   "cell_type": "code",
   "execution_count": 2,
   "id": "6bab1cf3",
   "metadata": {},
   "outputs": [
    {
     "name": "stdout",
     "output_type": "stream",
     "text": [
      "[INFO] Jumlah file real: 6\n",
      "[INFO] Jumlah file GAN tersedia: 500\n",
      "[INFO] Akan menambahkan 277 file GAN untuk melengkapi total 283 file.\n",
      "[✅ DONE] Total file gabungan di D:\\KULIAH\\TELKOM_UNIVERSITY\\SEMESTER_8\\TA\\TA_SKRIPSI_GUE\\DATA_FINAL\\SPLIT_RHYTHM_FINAL\\TRAIN_GABUNGAN_FIX\\VT: 283 file\n"
     ]
    }
   ],
   "source": [
    "import os\n",
    "import shutil\n",
    "import random\n",
    "\n",
    "def gabungkan_real_dan_gan(real_dir, gan_dir, output_dir, target_count):\n",
    "    os.makedirs(output_dir, exist_ok=True)\n",
    "\n",
    "    real_files = [f for f in os.listdir(real_dir) if f.endswith(\".npy\")]\n",
    "    gan_files = [f for f in os.listdir(gan_dir) if f.endswith(\".npy\")]\n",
    "\n",
    "    print(f\"[INFO] Jumlah file real: {len(real_files)}\")\n",
    "    print(f\"[INFO] Jumlah file GAN tersedia: {len(gan_files)}\")\n",
    "    \n",
    "    num_real = len(real_files)\n",
    "    num_needed = max(0, target_count - num_real)\n",
    "\n",
    "    if num_needed > len(gan_files):\n",
    "        raise ValueError(f\"Tidak cukup file GAN. Diperlukan {num_needed}, tapi hanya tersedia {len(gan_files)}.\")\n",
    "\n",
    "    selected_gan_files = random.sample(gan_files, num_needed)\n",
    "\n",
    "    print(f\"[INFO] Akan menambahkan {num_needed} file GAN untuk melengkapi total {target_count} file.\")\n",
    "\n",
    "    # Salin file real ke output_dir\n",
    "    for fname in real_files:\n",
    "        shutil.copy(os.path.join(real_dir, fname), os.path.join(output_dir, fname))\n",
    "\n",
    "    # Salin file GAN dan ubah nama agar tidak bentrok\n",
    "    for i, fname in enumerate(selected_gan_files):\n",
    "        new_name = f\"FAKE_{i}.npy\"\n",
    "        shutil.copy(os.path.join(gan_dir, fname), os.path.join(output_dir, new_name))\n",
    "\n",
    "    print(f\"[✅ DONE] Total file gabungan di {output_dir}: {len(os.listdir(output_dir))} file\")\n",
    "\n",
    "# ======== CONTOH PENGGUNAAN ========\n",
    "gabungkan_real_dan_gan(\n",
    "    real_dir=r\"D:\\KULIAH\\TELKOM_UNIVERSITY\\SEMESTER_8\\TA\\TA_SKRIPSI_GUE\\DATA_FINAL\\SPLIT_RHYTHM_FINAL\\TRAIN_MURNI\\VT\",\n",
    "    gan_dir=r\"D:\\KULIAH\\TELKOM_UNIVERSITY\\SEMESTER_8\\TA\\TA_SKRIPSI_GUE\\DATA_FINAL\\Hasil_CECG\\VT\",\n",
    "    output_dir=r\"D:\\KULIAH\\TELKOM_UNIVERSITY\\SEMESTER_8\\TA\\TA_SKRIPSI_GUE\\DATA_FINAL\\SPLIT_RHYTHM_FINAL\\TRAIN_GABUNGAN_FIX\\VT\",\n",
    "    target_count=283\n",
    ")\n"
   ]
  },
  {
   "cell_type": "code",
   "execution_count": 4,
   "id": "3996ba50",
   "metadata": {},
   "outputs": [
    {
     "name": "stdout",
     "output_type": "stream",
     "text": [
      "✅ Folder 'D:\\KULIAH\\TELKOM_UNIVERSITY\\SEMESTER_8\\TA\\TA_SKRIPSI_GUE\\DATA_FINAL\\SPLIT_RHYTHM_FINAL\\TRAIN_MURNI\\N' berhasil dipindahkan ke 'D:\\KULIAH\\TELKOM_UNIVERSITY\\SEMESTER_8\\TA\\TA_SKRIPSI_GUE\\DATA_FINAL\\SPLIT_RHYTHM_FINAL\\TRAIN_GABUNGAN_FIX/N'\n"
     ]
    }
   ],
   "source": [
    "import shutil\n",
    "import os\n",
    "\n",
    "# Path folder sumber (asal)\n",
    "source_folder = r\"D:\\KULIAH\\TELKOM_UNIVERSITY\\SEMESTER_8\\TA\\TA_SKRIPSI_GUE\\DATA_FINAL\\SPLIT_RHYTHM_FINAL\\TRAIN_MURNI\\N\"\n",
    "\n",
    "# Path folder tujuan (tempat baru)\n",
    "destination_folder = r\"D:\\KULIAH\\TELKOM_UNIVERSITY\\SEMESTER_8\\TA\\TA_SKRIPSI_GUE\\DATA_FINAL\\SPLIT_RHYTHM_FINAL\\TRAIN_GABUNGAN_FIX/N\"\n",
    "\n",
    "# Pindahkan folder\n",
    "if os.path.exists(source_folder):\n",
    "    shutil.move(source_folder, destination_folder)\n",
    "    print(f\"✅ Folder '{source_folder}' berhasil dipindahkan ke '{destination_folder}'\")\n",
    "else:\n",
    "    print(f\"❌ Folder sumber tidak ditemukan: {source_folder}\")\n"
   ]
  },
  {
   "cell_type": "code",
   "execution_count": 5,
   "id": "0a1c81e7",
   "metadata": {},
   "outputs": [
    {
     "name": "stdout",
     "output_type": "stream",
     "text": [
      "=== Distribusi Jumlah File per Kelas ===\n",
      "Kelas AFIB  : 283 file\n",
      "Kelas N     : 283 file\n",
      "Kelas VFL   : 283 file\n",
      "Kelas VT    : 283 file\n"
     ]
    }
   ],
   "source": [
    "import os\n",
    "\n",
    "# Ganti dengan path ke direktori dataset final-mu\n",
    "DATASET_DIR = r\"D:\\KULIAH\\TELKOM_UNIVERSITY\\SEMESTER_8\\TA\\TA_SKRIPSI_GUE\\DATA_FINAL\\SPLIT_RHYTHM_FINAL\\TRAIN_GABUNGAN_FIX\"\n",
    "\n",
    "# Cek jumlah file per kelas\n",
    "print(\"=== Distribusi Jumlah File per Kelas ===\")\n",
    "for class_name in os.listdir(DATASET_DIR):\n",
    "    class_path = os.path.join(DATASET_DIR, class_name)\n",
    "    if os.path.isdir(class_path):\n",
    "        file_count = len([f for f in os.listdir(class_path) if f.endswith(\".npy\")])\n",
    "        print(f\"Kelas {class_name:<6}: {file_count} file\")\n"
   ]
  }
 ],
 "metadata": {
  "kernelspec": {
   "display_name": "Python 3",
   "language": "python",
   "name": "python3"
  },
  "language_info": {
   "codemirror_mode": {
    "name": "ipython",
    "version": 3
   },
   "file_extension": ".py",
   "mimetype": "text/x-python",
   "name": "python",
   "nbconvert_exporter": "python",
   "pygments_lexer": "ipython3",
   "version": "3.11.9"
  }
 },
 "nbformat": 4,
 "nbformat_minor": 5
}
